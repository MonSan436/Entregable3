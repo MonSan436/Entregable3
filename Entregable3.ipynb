{
  "nbformat": 4,
  "nbformat_minor": 0,
  "metadata": {
    "colab": {
      "name": "Entregable3.ipynb",
      "provenance": [],
      "collapsed_sections": [],
      "authorship_tag": "ABX9TyNkOOGn/Nfa4rvMLEKkmzll",
      "include_colab_link": true
    },
    "kernelspec": {
      "name": "python3",
      "display_name": "Python 3"
    },
    "language_info": {
      "name": "python"
    }
  },
  "cells": [
    {
      "cell_type": "markdown",
      "metadata": {
        "id": "view-in-github",
        "colab_type": "text"
      },
      "source": [
        "<a href=\"https://colab.research.google.com/github/MonSan436/Entregable3/blob/main/Entregable3.ipynb\" target=\"_parent\"><img src=\"https://colab.research.google.com/assets/colab-badge.svg\" alt=\"Open In Colab\"/></a>"
      ]
    },
    {
      "cell_type": "markdown",
      "metadata": {
        "id": "THk2-IcQ1GYb"
      },
      "source": [
        "**David Santiago Garzón Monje.**\n",
        "\n",
        "**Matemáticas-Universidad Nacional de Colombia.**\n",
        "\n",
        "**Ejercicios entregables 3: Introducción al aprendizaje de máquina.**"
      ]
    },
    {
      "cell_type": "markdown",
      "metadata": {
        "id": "q4Kq5nBBd4JI"
      },
      "source": [
        "Para este trabajo estaremos haciendo uso de las siguientes librerías. "
      ]
    },
    {
      "cell_type": "code",
      "metadata": {
        "id": "5T7qg_Pnd0B3"
      },
      "source": [
        "import math\n",
        "import pandas as pd\n",
        "import matplotlib.pyplot as plt\n",
        "import numpy as np"
      ],
      "execution_count": 1,
      "outputs": []
    },
    {
      "cell_type": "markdown",
      "metadata": {
        "id": "q4HlKO-EQNuQ"
      },
      "source": [
        "#Problema 1 (Ejercicio 2.2 de libro guía).\n",
        "\n",
        "**(a)** Verifique la cota del Teorema 2.4 en los tres casos del Ejemplo 2.2:\n",
        "\n",
        "*(i)* Rayos positivos: $H$ consiste en todas las hipótesis en una dimensión de la forma $h(x)=\\mbox{sign}(x-a)$.\n",
        "\n",
        "*(ii)* Intervalos positivos: $H$ consiste en todas las hipótesis en una dimensión que son positivas en algún intervalo y negativas en caso contrario.\n",
        "\n",
        "*(iii)* Conjunsos convexos: $H$ consiste de todas las hipótesis en dos dimensiones que son positivas dentro de algún conjunto convexo y negativas en caso contrario.\n",
        "\n",
        "[**Nota:** puede usar el punto de ruptura encontrado en el Ejercicio 2.1.]\n",
        "\n",
        "**(b)** ¿Existe un conjunto de hipótesis para el cual $m_H(N)=N+2^{\\left \\lfloor {N/2}\\right \\rfloor}$? donde $\\left \\lfloor {N/2}\\right \\rfloor$ es la parte entera de $N/2$.\n"
      ]
    },
    {
      "cell_type": "markdown",
      "metadata": {
        "id": "hPKsm7IPU557"
      },
      "source": [
        "Como recordatorio, se tiene que el Teorema 2.4 establece que si $m_H(k)<2^k$ para algún $k$, entonces \n",
        "$$m_H(N)\\leq \\sum_{i=0}^{k-1}\\binom{N}{i}$$ \n",
        "para todo $N$. El lado derecho es un polinomio en $N$ de grado $k-1$."
      ]
    },
    {
      "cell_type": "markdown",
      "metadata": {
        "id": "BjphLN6nUgNu"
      },
      "source": [
        "**Solución.**\n",
        "\n",
        "**(a)**\n",
        "\n",
        "*(i)* Vimos en clase que en este caso\n",
        "\n",
        "$$m_H(N)=N+1,$$\n",
        "\n",
        "así tenemos el break point $k=2$ ($d_{VC}(H)=1$), además\n",
        "\n",
        "$$\\sum_{i=0}^{k-1} \\binom{N}{i}=\\binom{N}{0}+\\binom{N}{1}=1+N.$$\n",
        "\n",
        "Tenemos en este caso que se cumple la igualdad $m_H(N)= \\sum_{i=0}^{k-1}\\binom{N}{i}$ y en particular se cumple la desigualdad del Teorema 2.4.\n",
        "\n",
        "*(ii)* Vimos en clase que para este espacio de hipótesis\n",
        "\n",
        "$$m_H(N)=\\binom{N+1}{2}+1=\\frac{N^2}{2}+\\frac{N}{2}+1,$$\n",
        "\n",
        "de lo anterior, tenemos que $m_H(1)=2=2^1$, $m_H(2)=4=2^2$ y $m_H(3)=7<2^3$. Así, $k=3$ es break point para este espacio de hipótesis, además\n",
        "\n",
        "\\begin{align*}\n",
        "  \\sum_{i=0}^{k-1} \\binom{N}{i}&=\\binom{N}{0}+\\binom{N}{1}+\\binom{N}{2}\n",
        "  \\\\&=\\binom{N}{0}+\\binom{N+1}{2}\\mbox{, por la recursión binomial}\n",
        "  \\\\&=1+\\binom{N+1}{2}.\n",
        "\\end{align*}\n",
        "\n",
        "Tenemos en este caso que se cumple la igualdad $m_H(N)= \\sum_{i=0}^{k-1}\\binom{N}{i}$ y en particular se cumple la desigualdad del Teorema 2.4.\n",
        "\n",
        "\n",
        "*(iii)* Sabemos que en este espacio de hipótesis, siempre se tiene que $m_H(k)=2^K$; esto es, para cualquier valor de $k\\in\\mathbb{Z}^+$, por lo cál no se cumple la hipótesis del Teorema 2.4, sin embargo podemos ver en detaller cómo se comporta el consecuente del mismo.\n",
        "\n",
        "Sean $N,k \\in\\mathbb{Z}^+$. Si $k\\geq N$  entonces, como para cualquier $i>N$ se da que $\\binom{N}{i}=0$, \n",
        "$$\\sum_{i=0}^{k}\\binom{N}{i}=\\sum_{i=0}^{N}\\binom{N}{i}=2^N,$$\n",
        "\n",
        "recuerde que esta última igualdad se da porque $\\binom{N}{i}$ cuenta el número de subconjunto de $i$ de elementos de un conjunto de cardinal $N$, tomando $i=0,...,N$ obtenemos el cardinal de partes de un conjunto de $N$ elementos (que es $2^N$).\n",
        "\n",
        "Por tanto, para  $k\\geq N$, $m_H(N)=\\sum_{i=0}^{k}\\binom{N}{i}$. En particular se cumple la desigualdad dada en el consecuente del Teorema 2.4, AUNQUE COMO YA LO MENCIONAMOS NO SE CUMPLE SU HIPÓTESIS.\n",
        "\n",
        "Supongamos ahora que $k<N$, así\n",
        "\n",
        "$$\\sum_{i=0}^{k} \\binom{N}{i}<\\sum_{i=0}^{N} \\binom{N}{i}=2^N,$$\n",
        "\n",
        "es decir que para $k<N$, $m_H(N)>\\sum_{i=0}^{k}\\binom{N}{i}$ que dice lo contrario al consecuente del Teorema 2.4.\n",
        "\n",
        "**Recordamos que todo lo dicho anteriormente para este inciso ocurre porque no se cumple la hipótesis del Teorema 2.4 y solo es una observación para ver cómo funcionan los números mencionados en el consecuente del Teorema 2.4.**\n",
        "\n",
        "**(b)** Para ver si esto es verdad, supongamos en principio qué sucedería si se diera esto; es decir, supongamos que existe un espacio de hipótesis $H$ para el cual $m_H(N)=N+2^{\\left \\lfloor {N/2}\\right \\rfloor}$ y con ayuda de pandas de python hagamos una tabla para ver si hay un break point. "
      ]
    },
    {
      "cell_type": "code",
      "metadata": {
        "id": "91aMU9IPkURl"
      },
      "source": [
        "'Implementando la función de crecimiento para este caso'\n",
        "def mH(n):\n",
        "  return n+2**math.floor(n/2)"
      ],
      "execution_count": null,
      "outputs": []
    },
    {
      "cell_type": "code",
      "metadata": {
        "id": "SL6F_1kQkjve"
      },
      "source": [
        "n=list(range(1,21))\n",
        "m=[]\n",
        "maxdic=[]\n",
        "for i in n:\n",
        "  m.append(mH(i))\n",
        "  maxdic.append(2**i)"
      ],
      "execution_count": null,
      "outputs": []
    },
    {
      "cell_type": "code",
      "metadata": {
        "colab": {
          "base_uri": "https://localhost:8080/",
          "height": 442
        },
        "id": "hR3yvuJolKKy",
        "outputId": "1725d6d1-1d89-4d64-95de-e5a223ee0856"
      },
      "source": [
        "data={'N':n,'m_H(N)':m,'2^N':maxdic}\n",
        "df=pd.DataFrame(data)\n",
        "print(df.to_string(index=False),\"\\n\"*3)\n",
        "plt.figure(figsize=(20, 5))\n",
        "plt.show()"
      ],
      "execution_count": null,
      "outputs": [
        {
          "output_type": "stream",
          "text": [
            "  N  m_H(N)      2^N\n",
            "  1       2        2\n",
            "  2       4        4\n",
            "  3       5        8\n",
            "  4       8       16\n",
            "  5       9       32\n",
            "  6      14       64\n",
            "  7      15      128\n",
            "  8      24      256\n",
            "  9      25      512\n",
            " 10      42     1024\n",
            " 11      43     2048\n",
            " 12      76     4096\n",
            " 13      77     8192\n",
            " 14     142    16384\n",
            " 15     143    32768\n",
            " 16     272    65536\n",
            " 17     273   131072\n",
            " 18     530   262144\n",
            " 19     531   524288\n",
            " 20    1044  1048576 \n",
            "\n",
            "\n",
            "\n"
          ],
          "name": "stdout"
        },
        {
          "output_type": "display_data",
          "data": {
            "text/plain": [
              "<Figure size 1440x360 with 0 Axes>"
            ]
          },
          "metadata": {
            "tags": []
          }
        }
      ]
    },
    {
      "cell_type": "markdown",
      "metadata": {
        "id": "XlqsAQthlwmd"
      },
      "source": [
        "De la tabla anterior, vemos que $d_{VC}=2$; esto es, $k=3$ es un break point de este tal espacio de hipótesis, luego, si existiera tal $H$ con tal función de crecimiento, según el Teorema $2.4$ sebería se que para cualquier $N\\in\\mathbb{Z}^+$ \n",
        "$$m_H(N)\\leq \\sum_{i=0}^{k-1}\\binom{N}{i}$$\n",
        "y podríamos ver esto para algunos valores en particular. Veamos si esto se tiene con lo siguiente."
      ]
    },
    {
      "cell_type": "code",
      "metadata": {
        "id": "4JVlluBhoARr"
      },
      "source": [
        "'Implementando los símbolos factorial y combinatorio.'\n",
        "def factorial(n):\n",
        "  if n==0 or n==1:\n",
        "    return 1\n",
        "  else:\n",
        "    return n*factorial(n-1)\n",
        "def combinatoria(n,k):\n",
        "  if k>n:\n",
        "    return 0\n",
        "  else:\n",
        "    return factorial(n)/(factorial(n-k)*factorial(k))"
      ],
      "execution_count": null,
      "outputs": []
    },
    {
      "cell_type": "code",
      "metadata": {
        "id": "O4X8If7_pYVe"
      },
      "source": [
        "'Implementando la cota del Teorema 2.4.'\n",
        "def cotaT2_4(n,k):\n",
        "  s=0\n",
        "  for i in range(0,k):\n",
        "    s=s+combinatoria(n,i)\n",
        "  return s"
      ],
      "execution_count": null,
      "outputs": []
    },
    {
      "cell_type": "markdown",
      "metadata": {
        "id": "tqNa2ux51bPN"
      },
      "source": [
        "Al igual que antes podemos hacer una tabla para comparar $m_H(N)$ y $\\sum_{i=0}^k\\binom{N}{i}$ con $k=3$, como se hace a continuación."
      ]
    },
    {
      "cell_type": "code",
      "metadata": {
        "id": "UOGB-tZu1zEE"
      },
      "source": [
        "k=3\n",
        "n=list(range(1,51))\n",
        "m=[]\n",
        "cota2_4=[]\n",
        "for i in n:\n",
        "  m.append(mH(i))\n",
        "  cota2_4.append(cotaT2_4(i,k))"
      ],
      "execution_count": null,
      "outputs": []
    },
    {
      "cell_type": "code",
      "metadata": {
        "colab": {
          "base_uri": "https://localhost:8080/",
          "height": 952
        },
        "id": "8PvUnkBb2Std",
        "outputId": "e3fbf065-e825-427e-c419-6b8e0798824f"
      },
      "source": [
        "data={'N':n,'m_H(N)':m,'Cota Teo. 2.4 k=3':cota2_4}\n",
        "df=pd.DataFrame(data)\n",
        "print(df.to_string(index=False),\"\\n\"*3)\n",
        "plt.figure(figsize=(20, 5))\n",
        "plt.show()"
      ],
      "execution_count": null,
      "outputs": [
        {
          "output_type": "stream",
          "text": [
            "  N    m_H(N)  Cota Teo. 2.4 k=3\n",
            "  1         2                2.0\n",
            "  2         4                4.0\n",
            "  3         5                7.0\n",
            "  4         8               11.0\n",
            "  5         9               16.0\n",
            "  6        14               22.0\n",
            "  7        15               29.0\n",
            "  8        24               37.0\n",
            "  9        25               46.0\n",
            " 10        42               56.0\n",
            " 11        43               67.0\n",
            " 12        76               79.0\n",
            " 13        77               92.0\n",
            " 14       142              106.0\n",
            " 15       143              121.0\n",
            " 16       272              137.0\n",
            " 17       273              154.0\n",
            " 18       530              172.0\n",
            " 19       531              191.0\n",
            " 20      1044              211.0\n",
            " 21      1045              232.0\n",
            " 22      2070              254.0\n",
            " 23      2071              277.0\n",
            " 24      4120              301.0\n",
            " 25      4121              326.0\n",
            " 26      8218              352.0\n",
            " 27      8219              379.0\n",
            " 28     16412              407.0\n",
            " 29     16413              436.0\n",
            " 30     32798              466.0\n",
            " 31     32799              497.0\n",
            " 32     65568              529.0\n",
            " 33     65569              562.0\n",
            " 34    131106              596.0\n",
            " 35    131107              631.0\n",
            " 36    262180              667.0\n",
            " 37    262181              704.0\n",
            " 38    524326              742.0\n",
            " 39    524327              781.0\n",
            " 40   1048616              821.0\n",
            " 41   1048617              862.0\n",
            " 42   2097194              904.0\n",
            " 43   2097195              947.0\n",
            " 44   4194348              991.0\n",
            " 45   4194349             1036.0\n",
            " 46   8388654             1082.0\n",
            " 47   8388655             1129.0\n",
            " 48  16777264             1177.0\n",
            " 49  16777265             1226.0\n",
            " 50  33554482             1276.0 \n",
            "\n",
            "\n",
            "\n"
          ],
          "name": "stdout"
        },
        {
          "output_type": "display_data",
          "data": {
            "text/plain": [
              "<Figure size 1440x360 with 0 Axes>"
            ]
          },
          "metadata": {
            "tags": []
          }
        }
      ]
    },
    {
      "cell_type": "markdown",
      "metadata": {
        "id": "SrksriIe2hGR"
      },
      "source": [
        "VEMOS POR LAS ULTIMAS CASILLAS QUE $\\sum_{i=0}^k\\binom{N}{i}$ NO ESTA ACOTANDO LA FUNCIÓN DE CRECIMIENTO COMO SE ESTABLECE EN EL TEOREMA 2.4. ¡LO ANTERIOR ES CONTRADICTORIO!\n",
        "\n",
        "Con mayor precisión, podemos saber para cuál valor de $N$ se empieza a incumplir esta cota."
      ]
    },
    {
      "cell_type": "code",
      "metadata": {
        "colab": {
          "base_uri": "https://localhost:8080/"
        },
        "id": "1j8uuR1a3XhN",
        "outputId": "5dad54f5-4f5e-4b06-90f0-1853bb5f3705"
      },
      "source": [
        "i=0\n",
        "bandera=True\n",
        "while bandera:\n",
        "  if m[i]>cota2_4[i]:\n",
        "    bandera=False\n",
        "  i=i+1\n",
        "print(\"Para N=\",i,\"se empieza a incumplir la cota del Teorema 2.4\")"
      ],
      "execution_count": null,
      "outputs": [
        {
          "output_type": "stream",
          "text": [
            "Para N= 14 se empieza a incumplir la cota del Teorema 2.4\n"
          ],
          "name": "stdout"
        }
      ]
    },
    {
      "cell_type": "markdown",
      "metadata": {
        "id": "qIy6G46l4jau"
      },
      "source": [
        "En conclusión, es imposible que exista un espacio de hipótesis con tal función de crecimiento $m_H(N)=N+2^{\\left \\lfloor {N/2}\\right \\rfloor}$."
      ]
    },
    {
      "cell_type": "markdown",
      "metadata": {
        "id": "PKtKW2WNUiow"
      },
      "source": [
        "#Problema 2 (Ejercicio 2.5 del libro guía). \n",
        "\n",
        "Suponga que tiene un modelo simple de aprendizaje cuya función de crecimiento es $m_H(N)=N+1$, por tanto $d_{VC}=1$. Usar la cota VC (2.12) para estimar la probabilidad de que $E_{\\text{out}}$ esté alrededor de 0.1 de $E_{\\text{in}}$ dados 100 ejemplos de entrenamiento. [**Sugerencia:** La estimación será ridícula.]"
      ]
    },
    {
      "cell_type": "markdown",
      "metadata": {
        "id": "otgwUql2Xbre"
      },
      "source": [
        "Como recordatorio (2.12) dice que para toda tolerancia $\\delta>0$,\n",
        "$$E_{\\text{out}}(g)\\leq E_{\\text{in}}(g)+\\sqrt{\\frac{8}{N}\\ln{\\frac{4m_H(2N)}{\\delta}}}$$\n",
        "con probabilidad $\\geq1-\\delta$ (Cota de generalización VC)."
      ]
    },
    {
      "cell_type": "markdown",
      "metadata": {
        "id": "pLd18f8MXWoI"
      },
      "source": [
        "**Solución.** Basta el hallar el valor de $\\delta$. Los datos que nos dan son $N=100$, $m_H(N)=N+1$ y $\\epsilon=0.1$ donde \n",
        "$$\\epsilon=\\sqrt{\\frac{8}{N}\\ln{\\frac{4m_H(2N)}{\\delta}}}.$$\n",
        "\n",
        "Despejando de la ecuación anterior se obtiene\n",
        "\n",
        "$$\\frac{N\\epsilon^2}{8}=\\ln{\\frac{4m_H(2N)}{\\delta}} $$\n",
        "\n",
        "si y solo si\n",
        "\n",
        "$$\\delta=4m_H(2N)e^{-\\frac{N\\epsilon^2}{8}}=4(2N+1)e^{-\\frac{N\\epsilon^2}{8}}.$$"
      ]
    },
    {
      "cell_type": "code",
      "metadata": {
        "id": "3brsmmlSANN9"
      },
      "source": [
        "def delta(N,epsilon):\n",
        "  return 4*(2*N+1)*math.exp(-(N*epsilon**2)/8)"
      ],
      "execution_count": null,
      "outputs": []
    },
    {
      "cell_type": "code",
      "metadata": {
        "colab": {
          "base_uri": "https://localhost:8080/"
        },
        "id": "LgwBwpZaAxox",
        "outputId": "a3514785-1301-4c6f-99aa-e7ed5c6559b6"
      },
      "source": [
        "delta(100,0.1)"
      ],
      "execution_count": null,
      "outputs": [
        {
          "output_type": "execute_result",
          "data": {
            "text/plain": [
              "709.5275096780147"
            ]
          },
          "metadata": {
            "tags": []
          },
          "execution_count": 25
        }
      ]
    },
    {
      "cell_type": "markdown",
      "metadata": {
        "id": "eAYg92mhEz3V"
      },
      "source": [
        "Como queremos a $\\delta$ siendo un estimador probabilístico, dado el valor anterior podemos poner $\\delta=1$ para decir que la probabilidad buscada es mayor o igual que $1-\\delta=0$. En lo anterior, tiene sentido que no se nos diga mucho acerca del problema puesto que con tan pocos ejemplos se quiere que el error en la muestra esté muy cercano al error en la población."
      ]
    },
    {
      "cell_type": "markdown",
      "metadata": {
        "id": "uTrcWYnaYGlb"
      },
      "source": [
        "#Problema 3 (Ejercicio 2.6  del libro guía).\n",
        "\n",
        "Se da un conjunto de datos de 600 ejemplos. Para probar correctamente el rendimiento de la hipótesis final, se deja a un lado un subconjunto de 200 ejemplos seleccionados aleatoriamente que nunca se usan en la etapa de entrenamiento, estos formarán el conjunto de prueba. Se usa un modelo de aprendizaje con 1000 hipótesis y se selecciona una hipótesis final $g$ con los datos de entrenamiento. Deseamos estimar $E_\\text{out}(g)$. Tenemos acceso a dos estimaciones: $E_\\text{in}(g)$, el error in-ejemplo sobre los 400 ejemplos de entrenamiento; y $E_\\text{test}$, el error sobre los 200 ejemplos de prueba que estaban fuera del conjunto de entrenamiento.\n",
        " \n",
        "**(a)** Usando una tolerancia de error del 5\\% ($\\delta=0.05$), ¿cuál estimación tiene la mayor 'barra de error'?\n",
        "\n",
        "**(b)** ¿Hay alguna razón del por qué no se debería reservar más ejemplos para las pruebas?"
      ]
    },
    {
      "cell_type": "markdown",
      "metadata": {
        "id": "33PeMDR_bXig"
      },
      "source": [
        "**Solución.** \n",
        "\n",
        "**(a)** Note que para evaluar $E_\\text{in}$ debemos tener en cuenta todas las hipótesis como ya se ha discutido en todo el curso ($M=1000$); sin embargo, para $E_\\text{test}$ únicamente hay que tener en cuenta la hipótesis $g$ dada por el algoritmo usando el conjunto de entrenamiento (es decir que vale la desigualdad de Hoeffding o bien $M=1$).\n",
        "\n",
        "Recordemos que\n",
        "$$\\mathbb{P}[|E_\\text{out}-E_\\text{in}|>\\epsilon]\\leq 2Me^{-2\\epsilon^2N},$$\n",
        "\n",
        "además, tenemos la tolerencia $\\delta=2Me^{-2\\epsilon^2N}$ y por tanto la 'barra de error' es $\\epsilon=\\sqrt{\\frac{1}{2N}\\ln{\\frac{2M}{\\delta}}}.$\n",
        "\n",
        "Con todo lo dicho anteriormente, calculemos cuál estimación tiene la mayor 'barra de error' para una tolereancia del 5\\%."
      ]
    },
    {
      "cell_type": "code",
      "metadata": {
        "id": "k33HNuVvXEX0"
      },
      "source": [
        "def epsil(N,M,delta):\n",
        "  return math.sqrt(1/(2*N)*np.log(2*M/delta))"
      ],
      "execution_count": null,
      "outputs": []
    },
    {
      "cell_type": "code",
      "metadata": {
        "colab": {
          "base_uri": "https://localhost:8080/"
        },
        "id": "w5yHk3ZfXtiz",
        "outputId": "26d5faed-a9bd-41b6-d88e-b376212e3566"
      },
      "source": [
        "delta=0.05\n",
        "'Calculando la \"barra de error\" para E_{in}'\n",
        "M=1000\n",
        "N=400\n",
        "print(\"La estimación del error en la muestra da una barra de error de: \", epsil(N,M,delta))\n",
        "'Calculando la \"barra de error\" para E_{test}'\n",
        "M=1\n",
        "N=200\n",
        "print(\"La estimación del error en el conjunto de pruebas da una barra de error de: \", epsil(N,M,delta))"
      ],
      "execution_count": null,
      "outputs": [
        {
          "output_type": "stream",
          "text": [
            "La estimación del error en la muestra da una barra de error de:  0.11509037065006825\n",
            "La estimación del error en el conjunto de pruebas da una barra de error de:  0.09603227913199208\n"
          ],
          "name": "stdout"
        }
      ]
    },
    {
      "cell_type": "markdown",
      "metadata": {
        "id": "OcIuX_TuYVNR"
      },
      "source": [
        "De lo previo vemos que la estimación con mayor 'barra de error' es la dada por $E_\\text{in}$."
      ]
    },
    {
      "cell_type": "markdown",
      "metadata": {
        "id": "Sspzz0rNYhjw"
      },
      "source": [
        "**(b)** Sí hay una razón clara y concisa, esta es que si usamos más ejemplos para las pruebas entonces debemos tomar menos ejemplos para el conjunto de entrenamiento, lo cual no es bueno porque no tenemos estimaciones muy buenas con pocos ejemplos, o incluso inservibles, como sucedió en el problema anterior, en el cual no tomabamos muchos ejemplos para el conjunto de entrenamiento."
      ]
    },
    {
      "cell_type": "markdown",
      "metadata": {
        "id": "R2qYuRqBbZ2C"
      },
      "source": [
        "#Problema 4 (Problema 2.1 del libro guía).\n",
        "\n",
        "En la Ecuación (2.1), fije $\\delta=0.03$ y sea \n",
        "\n",
        "$$\\epsilon(M,N,\\delta)=\\sqrt{\\frac{1}{2N}\\ln{\\frac{2M}{\\delta}}}.$$\n",
        "\n",
        "**(a)** Para $M=1$ ¿cuántos ejemplos se necesitan para hacer $\\epsilon\\leq 0.05$?\n",
        "\n",
        "**(b)** Para $M=100$ ¿cuántos ejemplos se necesitan para hacer $\\epsilon\\leq 0.05$?\n",
        "\n",
        "**(c)** Para $M=10000$ ¿cuántos ejemplos se necesitan para hacer $\\epsilon\\leq 0.05$?"
      ]
    },
    {
      "cell_type": "markdown",
      "metadata": {
        "id": "2LapjgbycIaA"
      },
      "source": [
        "Recuerde que la Ecuación (2.1) dice que\n",
        "$$E_{\\text{out}}(g)\\leq E_{\\text{in}}(g)+\\sqrt{\\frac{1}{N}\\ln{\\frac{2M}{\\delta}}}$$"
      ]
    },
    {
      "cell_type": "markdown",
      "metadata": {
        "id": "EdoS6084etaZ"
      },
      "source": [
        "**Solución.** Supongamos que queremos hacer $\\epsilon\\leq\\mu$ o equivalentemente\n",
        "$$\\sqrt{\\frac{1}{2N}\\ln{\\frac{2M}{\\delta}}}\\leq\\mu$$\n",
        "lo cual ocurrre si y solo si\n",
        "$$\\frac{1}{2N}\\ln{\\frac{2M}{\\delta}}\\leq\\mu^2$$\n",
        "o bien\n",
        "$$\\frac{1}{2\\mu^2}\\ln{\\frac{2M}{\\delta}}\\leq N.$$\n",
        "Usemos código para hallar el valor numérico del lado izquierdo de la última desigualdad."
      ]
    },
    {
      "cell_type": "code",
      "metadata": {
        "id": "AFEtK9Ltpny_"
      },
      "source": [
        "def cotaN(mu,M,delta):\n",
        "  return 1/(2*mu**2)*np.log(2*M/delta)"
      ],
      "execution_count": null,
      "outputs": []
    },
    {
      "cell_type": "markdown",
      "metadata": {
        "id": "_UuozZXWqNpr"
      },
      "source": [
        "En cada uno de los siguientes tres items se quiere una toleracia del 3\\% (es decir, una confianza del 97\\%) y $\\mu=0.05$."
      ]
    },
    {
      "cell_type": "code",
      "metadata": {
        "id": "IzjVG_GXqL0g"
      },
      "source": [
        "delta=0.03\n",
        "mu=0.05"
      ],
      "execution_count": null,
      "outputs": []
    },
    {
      "cell_type": "markdown",
      "metadata": {
        "id": "B6rn_ITaqkUI"
      },
      "source": [
        "**(a)**"
      ]
    },
    {
      "cell_type": "code",
      "metadata": {
        "colab": {
          "base_uri": "https://localhost:8080/"
        },
        "id": "Rpxwr8fPrjJ8",
        "outputId": "d12dc080-d268-4221-f061-8bcfd4019a29"
      },
      "source": [
        "M=1\n",
        "cota=cotaN(mu,M,delta)\n",
        "print(cota)"
      ],
      "execution_count": null,
      "outputs": [
        {
          "output_type": "stream",
          "text": [
            "839.9410155759854\n"
          ],
          "name": "stdout"
        }
      ]
    },
    {
      "cell_type": "markdown",
      "metadata": {
        "id": "lJ5dHpgusMKU"
      },
      "source": [
        "Es decir que para $M=1$ se requieren al menos $(N\\geq) 840$ ejemplos."
      ]
    },
    {
      "cell_type": "markdown",
      "metadata": {
        "id": "gxQFy4dnscEn"
      },
      "source": [
        "**(b)**"
      ]
    },
    {
      "cell_type": "code",
      "metadata": {
        "colab": {
          "base_uri": "https://localhost:8080/"
        },
        "id": "LkwrUrsGscEp",
        "outputId": "67dbef68-b5a9-451b-9a1a-17801782a333"
      },
      "source": [
        "M=100\n",
        "cota=cotaN(mu,M,delta)\n",
        "print(cota)"
      ],
      "execution_count": null,
      "outputs": [
        {
          "output_type": "stream",
          "text": [
            "1760.9750527736035\n"
          ],
          "name": "stdout"
        }
      ]
    },
    {
      "cell_type": "markdown",
      "metadata": {
        "id": "jT1PPm_PscEs"
      },
      "source": [
        "Es decir que para $M=100$ se requieren al menos $(N\\geq) 1761$ ejemplos."
      ]
    },
    {
      "cell_type": "markdown",
      "metadata": {
        "id": "2MeXKCiescc-"
      },
      "source": [
        "**(c)**"
      ]
    },
    {
      "cell_type": "code",
      "metadata": {
        "colab": {
          "base_uri": "https://localhost:8080/"
        },
        "id": "Y118NIUhscc_",
        "outputId": "79259d3e-6719-49cd-e3fc-3649431a5137"
      },
      "source": [
        "M=10000\n",
        "cota=cotaN(mu,M,delta)\n",
        "print(cota)"
      ],
      "execution_count": null,
      "outputs": [
        {
          "output_type": "stream",
          "text": [
            "2682.009089971222\n"
          ],
          "name": "stdout"
        }
      ]
    },
    {
      "cell_type": "markdown",
      "metadata": {
        "id": "MVj9LzUCscdB"
      },
      "source": [
        "Es decir que para $M=10000$ se requieren al menos $(N\\geq) 2863$ ejemplos."
      ]
    },
    {
      "cell_type": "markdown",
      "metadata": {
        "id": "rdjN3B9MtoQg"
      },
      "source": [
        "#Observación.\n",
        "\n",
        "Para los siguientes problemas es necesario hacer las obervaciones que vienen a continuación.\n",
        "\n",
        "Sabemos de la cota de generalización VC que si existe $k$ para el cual $m_H(k)<2^k$ entonces cualquiera que sea $N$\n",
        "$$m_H(N)\\leq\\sum_{i=0}^{k-1}\\binom{N}{i},$$\n",
        "y como por definición de la dimensión VC, $d_{VC}(H)+1$ es  un break point, la última desigualdad se puede escribir como \n",
        "$$m_H(N)\\leq\\sum_{i=0}^{d_{VC}(H)}\\binom{N}{i}.$$\n",
        "\n",
        "Se puede demostrar que para cualesquiera $D,N\\geq 1$ se tiene que $\\sum_{i=0}^{D}\\binom{N}{i}\\leq N^D+1$, lo cuál demostraremos por inducción sobre $D$. Para el caso base $D=1$\n",
        "\\begin{align*}\n",
        "  \\sum_{i=0}^{D}\\binom{N}{i}&=1+N=N^D+1.\n",
        "\\end{align*}\n",
        "\n",
        "Para el paso inductivo, supongamos que la proposición se cumple para $D\\geq 1$, veamos que se tiene para $D+1$. En efecto\n",
        "\n",
        "\\begin{align*}\n",
        "  \\sum_{i=0}^{D+1}\\binom{N}{i}&=\\sum_{i=0}^D\\binom{N}{i}+\\binom{N}{D+1}\n",
        "  \\\\&\\leq N^D+1+\\binom{N}{D+1},\n",
        "\\end{align*}\n",
        "tenemos dos casos:\n",
        "\n",
        "*Caso i:* Si $D+1>N$ entonces $\\binom{N}{D+1}$ y tendremos según lo anterior, que $\\sum_{i=0}^{D+1}\\binom{N}{i}\\leq N^D+1\\leq N^{D+1}+1$, pues $N\\geq 1$.\n",
        "\n",
        "*Caso ii:* Suponga que $D+1\\leq N$, así\n",
        "\n",
        "\\begin{align*}\n",
        "  \\binom{N}{D+1}&=\\frac{N(N-1)\\cdots(N-D)}{(D+1)!}\\leq N(N-1)\\cdots(N-D)\n",
        "  \\\\&=(N-1)N\\cdots(N-D)\\leq(N-1)N\\cdots N\n",
        "  \\\\&=N^D(N-1)=N^{D+1}-N^D,\n",
        "\\end{align*}\n",
        "\n",
        "de donde \n",
        "\n",
        "$$\\sum_{i=0}^{D+1}\\leq N^D+1+\\binom{N}{D+1}\\leq N^{D+1}+1$$\n",
        "\n",
        "como se quería demotrar.\n",
        "\n",
        "\n",
        "Todo lo anterior es para decir que se puede poner $m_H(N)\\leq N^{d_{VC}}+1$  donde $d_{VC}=d_{VC}(H)$ para $d_{VC}<\\infty$ y por tanto en todo lo que hagamos de ahora en adelante, podremos  reemplazar $m_H(N)$ por $N^{d_{VC}}+1$ (pues las funciones en las que se evalua $m_H(N)$ son crecientes)."
      ]
    },
    {
      "cell_type": "markdown",
      "metadata": {
        "id": "FcTf4ymZev7J"
      },
      "source": [
        "#Problema 5 (Problema 2.12 del libro guía).\n",
        "\n",
        "Para un espacio de hipótesis $H$ con $d_{VC}=10$ ¿qué cantidad de ejemplos necesita (como es prescrito por la cota de generalización) para tener un 95\\% de confianza tal que su error de generalización sea a lo más 0.05?"
      ]
    },
    {
      "cell_type": "markdown",
      "metadata": {
        "id": "6K5lXa6zfa8-"
      },
      "source": [
        "**Solución.** Según la observación y la cota de generalizacion VC queremos\n",
        "\n",
        "$$\\epsilon\\geq\\sqrt{\\frac{8}{N}\\ln{\\frac{4((2N)^{10}+1)}{\\delta}}}$$\n",
        "\n",
        "con $\\epsilon=\\delta=0.05$, es decir\n",
        "\n",
        "$$N\\geq \\frac{8}{\\epsilon^2}\\ln{\\frac{4((2N)^{10}+1)}{\\delta}},$$\n",
        "\n",
        "podemos intentar ver qué valores de $N$ cumplen lo anterior con un método iterativo (análogo a punto fijo)."
      ]
    },
    {
      "cell_type": "code",
      "metadata": {
        "id": "uo1zPNaxfwlL"
      },
      "source": [
        "def iterat(delta,epsilon, N, maxiter):\n",
        "  for i in range(maxiter):\n",
        "    cota=8/epsilon**2 * np.log(4*((2*N)**10+1)/delta)\n",
        "    if N>=cota:\n",
        "      break\n",
        "    N=int(cota)\n",
        "  return N,i"
      ],
      "execution_count": null,
      "outputs": []
    },
    {
      "cell_type": "code",
      "metadata": {
        "colab": {
          "base_uri": "https://localhost:8080/"
        },
        "id": "AhXY2e1CiqXy",
        "outputId": "92aeb5af-0ae7-4f7a-b586-0aeafb54ae44"
      },
      "source": [
        "epsilon=0.05\n",
        "delta=0.05\n",
        "N0=5000\n",
        "maxiter=10000\n",
        "N,i=iterat(delta,epsilon, N0, maxiter)\n",
        "print(N)\n",
        "print(i)"
      ],
      "execution_count": null,
      "outputs": [
        {
          "output_type": "stream",
          "text": [
            "452956\n",
            "9999\n"
          ],
          "name": "stdout"
        }
      ]
    },
    {
      "cell_type": "markdown",
      "metadata": {
        "id": "S67y57QdkYvC"
      },
      "source": [
        "Se tomaron 9999 iteraciones para ver que se necesitan al menos **452956** ejemplos aproximadamente para tener un 95% de confianza tal que el error de generalización sea a lo más 0.05."
      ]
    },
    {
      "cell_type": "markdown",
      "metadata": {
        "id": "c6k7vOrgfecJ"
      },
      "source": [
        "#Problema 6 (Problema 2.16 del libro guía).\n",
        "\n",
        "En este problema, consideramos $X=\\mathbb{R}$.Esto es, $\\textbf{x}=x$ es una variable de una dimensión. Para un conjunto de hipótesis \n",
        "$$H=\\{h_c|\\mbox{ }h_c(x)=\\mbox{sign}(\\sum_{i=0}^D c_ix^i)\\},$$\n",
        "demostrar que la dimensión VC de $H$ es exactamente $D+1$ mostrando que \n",
        "\n",
        "**(a)** Hay $D+1$ puntos que son particionados por $H$.\n",
        "\n",
        "**(b)** No hay $D+2$ puntos que sean particionados por $H$.\n"
      ]
    },
    {
      "cell_type": "markdown",
      "metadata": {
        "id": "KG2rNVt4g6iF"
      },
      "source": [
        "**Solución.**\n",
        "\n",
        "**(a)** Por interpolación polinómica es posible escoger de un conjunto de $D+1$ puntos tal que $h_c(x)=\\sum_{i=0}^D c_ix^i$ tenga $D$ ceros siendo que el polinomio cambia de signo a lados contrarios de una raíz. Así para toda dicotomía de los $D+1$ puntos, se puede escoger un polinomio que tenga los signos correspondientes en cada uno de estos puntos (interpolación). Luego hay $D+1$ puntos que son particionados por $H$. Aquí se ha demostrado que $d_{VC}\\geq D+1$.\n",
        "\n",
        "**(b)** Tomemos $D+2$ puntos cualesquiera en $\\mathbb{R}$ y note que cualquier polinomio $p(x)=\\sum_{i=0}^D c_ix^i$ tiene a lo más $D$ raices diferentes formando a lo más $D+1$ intervalos, y como tenemos $D+2$ puntos, por el principio del palomar deben existir al menos 2 de estos $D+2$ puntos que están en algúno de estos $D+1$ intervalos; es decir, ambos están entre dos raíces o ambos están a un mismo lado fuera de todas las raíces, luego estos puntos deben tener el mismo signo en $p(x)$. Por lo anterior, $D+2$ puntos cualesquiera no se pueden particionar por $H$. Aquí se ha demostrado que $d_{VC}\\leq D+1$.\n",
        "\n",
        "Por tanto $d_{VC}= D+1$. "
      ]
    },
    {
      "cell_type": "markdown",
      "metadata": {
        "id": "qkFiYCjcg9ib"
      },
      "source": [
        "#Problema 7 (Problema 2.20 del libro guía).\n",
        "\n",
        "Hay un  número de cotas en el error de generalización $\\epsilon$,  todas con una probabilidad de al menos $1-\\delta$.\n",
        "\n",
        "**(a)** Cota VC original:\n",
        "\n",
        "$$\\epsilon\\leq\\sqrt{\\frac{8}{N}\\ln{\\frac{4m_H(2N)}{\\delta}}}.$$\n",
        "\n",
        "**(b)** Cota de penalización de Rademacher:\n",
        "\n",
        "$$\\epsilon\\leq\\sqrt{\\frac{2\\ln{(2Nm_H(N))}}{N}}+\\sqrt{\\frac{2}{N}\\ln{\\frac{1}{\\delta}}}+\\frac{1}{N}.$$\n",
        "\n",
        "**(c)** Parrondo y Van den Broek:\n",
        "\n",
        "$$\\epsilon\\leq\\sqrt{\\frac{1}{N}\\left(2\\epsilon+\\ln{\\frac{6m_H(2N)}{\\delta}}\\right)}.$$\n",
        "\n",
        "**(d)** Devroye:\n",
        "\n",
        "$$\\epsilon\\leq\\sqrt{\\frac{1}{2N}\\left(4\\epsilon(1+\\epsilon)+\\ln{\\frac{4m_H(N^2)}{\\delta}}\\right)}.$$\n",
        "\n",
        "Note que **(c)** y **(d)** son cotas implícitas en $\\epsilon$. Fije $d_{VC}=50$ y $\\delta=0.05$ y grafique estas cotas como una función de $N$. ¿Cuál es la mejor?"
      ]
    },
    {
      "cell_type": "markdown",
      "metadata": {
        "id": "GtCSqjLIkFxO"
      },
      "source": [
        "**Solución.** Primero por la observación sabemos que podemos cambiar $m_H(k)$ por $k^{d_{VC}}+1$.\n",
        "\n",
        "Las primeras dos cotas son sencillas de obtener y las graficamos a conitinuación."
      ]
    },
    {
      "cell_type": "code",
      "metadata": {
        "id": "Nz496EwrdiR2"
      },
      "source": [
        "'cota VC original'\n",
        "\n",
        "def cotaVC(N,delta,dVC):\n",
        "  d=(2*N)**dVC+1\n",
        "  return np.sqrt(8/N*np.log(4*d/delta))"
      ],
      "execution_count": 61,
      "outputs": []
    },
    {
      "cell_type": "code",
      "metadata": {
        "id": "kTqZkyQhfNPn"
      },
      "source": [
        "'cota Rademacher'\n",
        "def cotaRademacher(N,delta,dVC):\n",
        "  d=N**dVC+1\n",
        "  return np.sqrt(2/N*math.log(2*N*d))+np.sqrt(2/N*np.log(1/delta))+1/N"
      ],
      "execution_count": 62,
      "outputs": []
    },
    {
      "cell_type": "markdown",
      "metadata": {
        "id": "Wve5O1yjh5RM"
      },
      "source": [
        "Ahora, para las siguientes cotas, podemos usar un método iterativo (por ejemplo punto fijo) como hicimos en el problema 5, pero esta vez, en vez de pedir que se cumpla la desigualdad, podemos pedir que los dos lados de la desigualdad estén muy cercanos (tanto como una tolerancia dada), con ello se tendrá aproximadamente la desigualdad; además, podemos empezar con $\\epsilon=0$."
      ]
    },
    {
      "cell_type": "code",
      "metadata": {
        "id": "4orlbRekjMGk"
      },
      "source": [
        "'cota Parrondo-Broek'\n",
        "def cotaParr_Broek(N,delta, dVC, maxiter, tolerancia):\n",
        "  d=(2*N)**dVC+1\n",
        "  epsilon=0\n",
        "  for i in range(maxiter):\n",
        "    cota=np.sqrt(1/N*(2*epsilon+np.log(6*d/delta)))\n",
        "    if np.abs(epsilon-cota)<=tolerancia:\n",
        "      break\n",
        "    epsilon=cota\n",
        "  return epsilon"
      ],
      "execution_count": 63,
      "outputs": []
    },
    {
      "cell_type": "code",
      "metadata": {
        "id": "0VUD9X9DpTlc"
      },
      "source": [
        "'cota Devroye'\n",
        "def cotaDevroye(N,delta, dVC, maxiter, tolerancia):\n",
        "  d=(N**2)**dVC+1\n",
        "  'Evitando Overflow'\n",
        "  c=np.log(4/delta)+2*dVC*np.log(N)\n",
        "  epsilon=0\n",
        "  for i in range(maxiter):\n",
        "    cota=np.sqrt(1/(2*N)*(4*epsilon*(1+epsilon)+c))\n",
        "    if np.abs(epsilon-cota)<=tolerancia:\n",
        "      break\n",
        "    epsilon=cota\n",
        "  return epsilon"
      ],
      "execution_count": 64,
      "outputs": []
    },
    {
      "cell_type": "code",
      "metadata": {
        "id": "PEcxns8Fu9hR"
      },
      "source": [
        "dVC=50\n",
        "delta=0.05\n",
        "tolerancia=1e-7\n",
        "maxiter=1000\n",
        "lista=list(range(1,3000))"
      ],
      "execution_count": 65,
      "outputs": []
    },
    {
      "cell_type": "code",
      "metadata": {
        "id": "Qx3xNyD8vQYC"
      },
      "source": [
        "y1=[cotaVC(N,delta,dVC) for N in lista]"
      ],
      "execution_count": 66,
      "outputs": []
    },
    {
      "cell_type": "code",
      "metadata": {
        "id": "UfDMGwR0vdEt"
      },
      "source": [
        "y2=[cotaRademacher(N,delta,dVC) for N in lista]"
      ],
      "execution_count": 67,
      "outputs": []
    },
    {
      "cell_type": "code",
      "metadata": {
        "id": "Vl20U8teyG5W"
      },
      "source": [
        "y3=[cotaParr_Broek(N,delta, dVC, maxiter, tolerancia) for N in lista]"
      ],
      "execution_count": 68,
      "outputs": []
    },
    {
      "cell_type": "code",
      "metadata": {
        "id": "vHpCvV6hyR51"
      },
      "source": [
        "y4=[cotaDevroye(N,delta, dVC, maxiter, tolerancia) for N in lista]"
      ],
      "execution_count": 69,
      "outputs": []
    },
    {
      "cell_type": "markdown",
      "metadata": {
        "id": "-wOz2ERKPJaA"
      },
      "source": [
        "Si intentaramos graficar aquí las 4 cotas tendríamos lo siguiente."
      ]
    },
    {
      "cell_type": "code",
      "metadata": {
        "colab": {
          "base_uri": "https://localhost:8080/",
          "height": 602
        },
        "id": "pXQ5C_Ot8s7P",
        "outputId": "ce960951-9999-4668-87c7-e93c2312a72f"
      },
      "source": [
        "plt.figure(figsize=(10, 10))\n",
        "plt.plot(lista, y1, 'b-',label='Cota VC')\n",
        "plt.plot(lista, y2, 'g-',label='Cota Rademacher')\n",
        "plt.plot(lista, y3, 'r-',label='Cota Parrondo-Broek')\n",
        "plt.plot(lista, y4, 'm-',label='Cota Devroye')\n",
        "plt.grid(color='k', linestyle='--', linewidth=.5)\n",
        "legend = plt.legend(loc='best', shadow=True, fontsize='x-large')\n",
        "plt.show()"
      ],
      "execution_count": 60,
      "outputs": [
        {
          "output_type": "display_data",
          "data": {
            "image/png": "[encoded data removed]",
            "text/plain": [
              "<Figure size 720x720 with 1 Axes>"
            ]
          },
          "metadata": {
            "tags": [],
            "needs_background": "light"
          }
        }
      ]
    },
    {
      "cell_type": "markdown",
      "metadata": {
        "id": "AN2AlewoTXIw"
      },
      "source": [
        "Lo cual no nos dice mucha más que debemos ver con  más detalle la última cota. Si graficamos solo las primeras tres obtendremos la siguiente gráfica."
      ]
    },
    {
      "cell_type": "code",
      "metadata": {
        "colab": {
          "base_uri": "https://localhost:8080/",
          "height": 592
        },
        "id": "hYMtrGqPTlrv",
        "outputId": "a374a938-c485-4816-e194-bb694cbe911b"
      },
      "source": [
        "plt.figure(figsize=(10, 10))\n",
        "plt.plot(lista, y1, 'b-',label='Cota VC')\n",
        "plt.plot(lista, y2, 'g-',label='Cota Rademacher')\n",
        "plt.plot(lista, y3, 'r-',label='Cota Parrondo-Broek')\n",
        "plt.grid(color='k', linestyle='--', linewidth=.5)\n",
        "legend = plt.legend(loc='best', shadow=True, fontsize='x-large')\n",
        "plt.show()"
      ],
      "execution_count": 70,
      "outputs": [
        {
          "output_type": "display_data",
          "data": {
            "image/png": "[encoded data removed]",
            "text/plain": [
              "<Figure size 720x720 with 1 Axes>"
            ]
          },
          "metadata": {
            "tags": [],
            "needs_background": "light"
          }
        }
      ]
    },
    {
      "cell_type": "markdown",
      "metadata": {
        "id": "sXa-EYozTqwb"
      },
      "source": [
        "De la cual podemos estimar que la cota de Parrondo-Broek es la mejor. Pero para analizar TODAS las cotas proseguimos como sigue."
      ]
    },
    {
      "cell_type": "markdown",
      "metadata": {
        "id": "PZFefdKX74t4"
      },
      "source": [
        "Devroye nos dice que\n",
        "\n",
        "$$\\epsilon\\leq\\sqrt{\\frac{1}{2N}\\left(4\\epsilon(1+\\epsilon)+\\ln{\\frac{4m_H(N^2)}{\\delta}}\\right)}$$\n",
        "\n",
        "si y solo si\n",
        "\n",
        "$$\\epsilon^2\\leq\\frac{2\\epsilon^2}{N}+\\frac{2\\epsilon}{N}+\\frac{1}{2N}\\ln{\\frac{4m_H(N^2)}{\\delta}}$$\n",
        "\n",
        "si y solo si\n",
        "\n",
        "$$\\epsilon^2-\\frac{2\\epsilon^2}{N}\\leq\\frac{2\\epsilon}{N}+\\frac{1}{2N}\\ln{\\frac{4m_H(N^2)}{\\delta}}$$\n",
        "\n",
        "si y solo si\n",
        "\n",
        "$$(N-2)\\epsilon^2\\leq 2\\epsilon+\\frac{1}{2}\\ln{\\frac{4m_H(N^2)}{\\delta}}$$\n",
        "\n",
        "lo último ocurre para $N>2$ si y solo si\n",
        "\n",
        "$$\\epsilon\\leq\\sqrt{\\frac{2\\epsilon}{N-2}+\\frac{1}{2(N-2)}\\ln{\\frac{4m_H(N^2)}{\\delta}}}.$$\n",
        "\n",
        "De lo anterior vemos que podemos hacer un análisis más sensato para analizar todas las gráficas al tiempo, simplemente al escoger una lista que inicia desde 3."
      ]
    },
    {
      "cell_type": "markdown",
      "metadata": {
        "id": "7lPVO1ImALLt"
      },
      "source": [
        "Implementemos la nueva cota que tomaremos en representación de la cota de Devroye."
      ]
    },
    {
      "cell_type": "code",
      "metadata": {
        "id": "5jOvcULKT9Zo"
      },
      "source": [
        "lista=list(range(3,3000))"
      ],
      "execution_count": 71,
      "outputs": []
    },
    {
      "cell_type": "code",
      "metadata": {
        "id": "BkoTwPwtUN7E"
      },
      "source": [
        "y1=[cotaVC(N,delta,dVC) for N in lista]"
      ],
      "execution_count": 72,
      "outputs": []
    },
    {
      "cell_type": "code",
      "metadata": {
        "id": "xR-wpJ20UN7F"
      },
      "source": [
        "y2=[cotaRademacher(N,delta,dVC) for N in lista]"
      ],
      "execution_count": 73,
      "outputs": []
    },
    {
      "cell_type": "code",
      "metadata": {
        "id": "DHs9bulvUN7G"
      },
      "source": [
        "y3=[cotaParr_Broek(N,delta, dVC, maxiter, tolerancia) for N in lista]"
      ],
      "execution_count": 74,
      "outputs": []
    },
    {
      "cell_type": "code",
      "metadata": {
        "id": "EYPb9w7iUN7H"
      },
      "source": [
        "y4=[cotaDevroye(N,delta, dVC, maxiter, tolerancia) for N in lista]"
      ],
      "execution_count": 75,
      "outputs": []
    },
    {
      "cell_type": "code",
      "metadata": {
        "colab": {
          "base_uri": "https://localhost:8080/",
          "height": 592
        },
        "id": "bXNZ-YRRUN7J",
        "outputId": "cfedfd30-4e99-4c7b-e16c-518fd625059d"
      },
      "source": [
        "plt.figure(figsize=(10, 10))\n",
        "plt.plot(lista, y1, 'b-',label='Cota VC')\n",
        "plt.plot(lista, y2, 'g-',label='Cota Rademacher')\n",
        "plt.plot(lista, y3, 'r-',label='Cota Parrondo-Broek')\n",
        "plt.plot(lista, y4, 'm-',label='Cota Devroye')\n",
        "plt.grid(color='k', linestyle='--', linewidth=.5)\n",
        "legend = plt.legend(loc='best', shadow=True, fontsize='x-large')\n",
        "plt.show()"
      ],
      "execution_count": 76,
      "outputs": [
        {
          "output_type": "display_data",
          "data": {
            "image/png": "[encoded data removed]",
            "text/plain": [
              "<Figure size 720x720 with 1 Axes>"
            ]
          },
          "metadata": {
            "tags": [],
            "needs_background": "light"
          }
        }
      ]
    },
    {
      "cell_type": "markdown",
      "metadata": {
        "id": "rNj5Ga2EUWfi"
      },
      "source": [
        "Lo anterior nos hace ver que todas las cotas son buenas estimaciones y que para este caso las cotas de Parrondo y Devroye están muy cernanas. Podemos graficarlas por a parte de las dos primeras, consederando que las dos últimas cotas son mejores."
      ]
    },
    {
      "cell_type": "code",
      "metadata": {
        "colab": {
          "base_uri": "https://localhost:8080/",
          "height": 592
        },
        "id": "zE1q2sdIM0A_",
        "outputId": "c4d047b0-35bc-4f8b-dcb7-cc2786df47bd"
      },
      "source": [
        "plt.figure(figsize=(10, 10))\n",
        "plt.plot(lista, y3, 'r-',label='Cota Parrondo-Broek')\n",
        "plt.plot(lista, y4, 'm-',label='Cota Devroye')\n",
        "plt.grid(color='k', linestyle='--', linewidth=.5)\n",
        "legend = plt.legend(loc='best', shadow=True, fontsize='x-large')\n",
        "plt.show()"
      ],
      "execution_count": 77,
      "outputs": [
        {
          "output_type": "display_data",
          "data": {
            "image/png": "[encoded data removed]",
            "text/plain": [
              "<Figure size 720x720 with 1 Axes>"
            ]
          },
          "metadata": {
            "tags": [],
            "needs_background": "light"
          }
        }
      ]
    },
    {
      "cell_type": "markdown",
      "metadata": {
        "id": "nlmcvbWL5goY"
      },
      "source": [
        "Según el análisis hecho y la gráfica, parece que la cota de Parrondo-Broek es la mejor (aunque no difiera mucho de la cota de Devroye).\n",
        "\n"
      ]
    }
  ]
}